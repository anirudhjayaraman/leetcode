{
 "cells": [
  {
   "cell_type": "markdown",
   "id": "ef7dc5c1-8878-4b41-9d52-385e06eead50",
   "metadata": {},
   "source": [
    "# LeetCode \\#5 - Longest Palindromic Substring"
   ]
  },
  {
   "cell_type": "markdown",
   "id": "fc0a0fff-097c-4c87-92c7-2cf64288cba9",
   "metadata": {},
   "source": [
    "Given a string s, return the longest palindromic substring in s."
   ]
  },
  {
   "cell_type": "markdown",
   "id": "e1f6d1c2-a58e-4a9a-b9be-81ccd05567c7",
   "metadata": {},
   "source": [
    "**Example 1:**\n",
    "\n",
    "Input: $s =$ \"babad\"\n",
    "\n",
    "Output: \"bab\"\n",
    "\n",
    "Explanation: \"aba\" is also a valid answer.\n",
    "\n",
    "**Example 2:**\n",
    "\n",
    "Input: $s =$ \"cbbd\"\n",
    "\n",
    "Output: \"bb\"\n",
    " \n",
    "\n",
    "**Constraints:**\n",
    "\n",
    "\n",
    "$1 \\leq s\\cdot length \\leq 1000$\n",
    "\n",
    "$s$ consist of only digits and English letters."
   ]
  },
  {
   "cell_type": "code",
   "execution_count": 1,
   "id": "e409374f-4b1a-4600-8679-4e05a140c3fd",
   "metadata": {},
   "outputs": [],
   "source": [
    "class Solution:\n",
    "    def longestPalindrome(self, s: str) -> str:\n",
    "        if len(s) == 1:\n",
    "            return s\n",
    "        else:\n",
    "            if(s==s[::-1]):\n",
    "                return s\n",
    "            else:\n",
    "                a = Solution().longestPalindrome(s[:-1])\n",
    "                b = Solution().longestPalindrome(s[1:])\n",
    "                if(len(a) > len(b)):\n",
    "                    return a\n",
    "                else:\n",
    "                    return b"
   ]
  },
  {
   "cell_type": "code",
   "execution_count": 2,
   "id": "3215cfd4-7118-4be7-a2fe-2d67be2bc955",
   "metadata": {},
   "outputs": [
    {
     "data": {
      "text/plain": [
       "'bb'"
      ]
     },
     "execution_count": 2,
     "metadata": {},
     "output_type": "execute_result"
    }
   ],
   "source": [
    "Solution().longestPalindrome(\"cbbd\")"
   ]
  },
  {
   "cell_type": "code",
   "execution_count": 3,
   "id": "92fead7c-c8dc-452b-9518-d1dee9f2a079",
   "metadata": {},
   "outputs": [
    {
     "data": {
      "text/plain": [
       "'aba'"
      ]
     },
     "execution_count": 3,
     "metadata": {},
     "output_type": "execute_result"
    }
   ],
   "source": [
    "Solution().longestPalindrome(\"baba\")"
   ]
  },
  {
   "cell_type": "code",
   "execution_count": 4,
   "id": "e065d27d-73fd-49c1-a0da-4619f079abdf",
   "metadata": {},
   "outputs": [
    {
     "data": {
      "text/plain": [
       "'tattarrattat'"
      ]
     },
     "execution_count": 4,
     "metadata": {},
     "output_type": "execute_result"
    }
   ],
   "source": [
    "Solution().longestPalindrome(\"tattarrattat\")"
   ]
  },
  {
   "cell_type": "code",
   "execution_count": 5,
   "id": "26a39c3d-ddb3-447c-b2e3-44686ffa1e93",
   "metadata": {},
   "outputs": [
    {
     "data": {
      "text/plain": [
       "'a'"
      ]
     },
     "execution_count": 5,
     "metadata": {},
     "output_type": "execute_result"
    }
   ],
   "source": [
    "Solution().longestPalindrome(s = 'a')"
   ]
  },
  {
   "cell_type": "code",
   "execution_count": 6,
   "id": "e7a90220-62ca-4cdd-8c03-d25d59c7e573",
   "metadata": {},
   "outputs": [],
   "source": [
    "class Solution:\n",
    "    def longestPalindrome(self, s: str) -> str:\n",
    "        if(len(s) <= 1):\n",
    "            return(s)\n",
    "        else:\n",
    "            maxlen = 0\n",
    "            start = 0\n",
    "            end = 0\n",
    "\n",
    "            for i in range(len(s)-1):\n",
    "                len1 = self.expandfrommiddle(s,i,i)\n",
    "                if(len1 > maxlen):\n",
    "                    start = i - int(len1 / 2)\n",
    "                    end = i + int(len1 / 2) + 1\n",
    "                    maxlen = len1\n",
    "\n",
    "                len2 = self.expandfrommiddle(s,i,i+1)\n",
    "                if(len2 > maxlen):\n",
    "                    start = i + 1 - int(len2 / 2)\n",
    "                    end = i + 1 + int(len2 / 2)\n",
    "                    maxlen = len2\n",
    "\n",
    "            return(s[start:(end)])\n",
    "            \n",
    "        \n",
    "    def expandfrommiddle(self, s:str, left:int, right:int) -> int:\n",
    "        if s[left] != s[right]:\n",
    "            return 0\n",
    "        else:\n",
    "            while((right < len(s)) and (left >= 0) and (s[left] == s[right])):\n",
    "                left -= 1\n",
    "                right += 1\n",
    "            return right - left - 1"
   ]
  },
  {
   "cell_type": "code",
   "execution_count": 7,
   "id": "162b2df7-ec34-4282-b9c4-11d4de6c177f",
   "metadata": {},
   "outputs": [
    {
     "data": {
      "text/plain": [
       "'bb'"
      ]
     },
     "execution_count": 7,
     "metadata": {},
     "output_type": "execute_result"
    }
   ],
   "source": [
    "Solution().longestPalindrome(\"cbbd\")"
   ]
  },
  {
   "cell_type": "code",
   "execution_count": 8,
   "id": "b1f6b95e-ab65-4e47-b63c-12fc5d7e13c3",
   "metadata": {},
   "outputs": [
    {
     "data": {
      "text/plain": [
       "'bab'"
      ]
     },
     "execution_count": 8,
     "metadata": {},
     "output_type": "execute_result"
    }
   ],
   "source": [
    "Solution().longestPalindrome(\"baba\")"
   ]
  },
  {
   "cell_type": "code",
   "execution_count": 9,
   "id": "597dedb1-5564-42ff-a3ec-82a4cb2ac398",
   "metadata": {},
   "outputs": [
    {
     "data": {
      "text/plain": [
       "'tattarrattat'"
      ]
     },
     "execution_count": 9,
     "metadata": {},
     "output_type": "execute_result"
    }
   ],
   "source": [
    "Solution().longestPalindrome(\"tattarrattat\")"
   ]
  },
  {
   "cell_type": "code",
   "execution_count": 10,
   "id": "4d40afb6-3e35-4557-aa91-f38c15e2622f",
   "metadata": {},
   "outputs": [
    {
     "data": {
      "text/plain": [
       "'a'"
      ]
     },
     "execution_count": 10,
     "metadata": {},
     "output_type": "execute_result"
    }
   ],
   "source": [
    "Solution().longestPalindrome(s = 'a')"
   ]
  }
 ],
 "metadata": {
  "kernelspec": {
   "display_name": "Python 3",
   "language": "python",
   "name": "python3"
  },
  "language_info": {
   "codemirror_mode": {
    "name": "ipython",
    "version": 3
   },
   "file_extension": ".py",
   "mimetype": "text/x-python",
   "name": "python",
   "nbconvert_exporter": "python",
   "pygments_lexer": "ipython3",
   "version": "3.8.8"
  }
 },
 "nbformat": 4,
 "nbformat_minor": 5
}
