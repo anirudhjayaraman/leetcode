{
 "cells": [
  {
   "cell_type": "markdown",
   "id": "4c9bf40b-1481-4781-bc8b-c6ebca91d202",
   "metadata": {},
   "source": [
    "### LeetCode #13 - Roman to Integer \n",
    "https://leetcode.com/problems/roman-to-integer/"
   ]
  },
  {
   "cell_type": "markdown",
   "id": "669e240d-c338-47d7-9471-0e6f8954125e",
   "metadata": {},
   "source": [
    "Roman numerals are represented by seven different symbols: I, V, X, L, C, D and M.\n",
    "\n",
    "| Symbol | Value  |\n",
    "| :------: | -----:  |\n",
    "|I |             1|\n",
    "|V |             5|\n",
    "|X |            10|\n",
    "|L |            50|\n",
    "|C |           100|\n",
    "|D |           500|\n",
    "|M |          1000|\n",
    "\n",
    "\n",
    "For example, 2 is written as II in Roman numeral, just two one's added together. 12 is written as XII, which is simply X + II. The number 27 is written as XXVII, which is XX + V + II.\n",
    "\n",
    "Roman numerals are usually written largest to smallest from left to right. However, the numeral for four is not IIII. Instead, the number four is written as IV. Because the one is before the five we subtract it making four. The same principle applies to the number nine, which is written as IX. There are six instances where subtraction is used:\n",
    "\n",
    "I can be placed before V (5) and X (10) to make 4 and 9. \n",
    "X can be placed before L (50) and C (100) to make 40 and 90. \n",
    "C can be placed before D (500) and M (1000) to make 400 and 900.\n",
    "Given a roman numeral, convert it to an integer."
   ]
  },
  {
   "cell_type": "markdown",
   "id": "7defeefa-b125-453e-a61e-4f3b15b99060",
   "metadata": {},
   "source": [
    "**Example 1:**\n",
    "\n",
    "Input: s = \"III\"\n",
    "\n",
    "Output: 3\n",
    "\n",
    "Explanation: III = 3.\n",
    "\n",
    "**Example 2:**\n",
    "\n",
    "Input: s = \"LVIII\"\n",
    "\n",
    "Output: 58\n",
    "\n",
    "Explanation: L = 50, V= 5, III = 3.\n",
    "\n",
    "**Example 3:**\n",
    "\n",
    "Input: s = \"MCMXCIV\"\n",
    "\n",
    "Output: 1994\n",
    "\n",
    "Explanation: M = 1000, CM = 900, XC = 90 and IV = 4.\n",
    "\n",
    "**Constraints:**\n",
    "\n",
    "$1 \\leq {s.length} \\leq 15$\n",
    "\n",
    "${s}$ contains only the characters ('I', 'V', 'X', 'L', 'C', 'D', 'M').\n",
    "It is guaranteed that s is a valid roman numeral in the range [1, 3999]."
   ]
  },
  {
   "cell_type": "code",
   "execution_count": 1,
   "id": "7d54e83d-b557-4363-808a-cf3c83e48172",
   "metadata": {},
   "outputs": [],
   "source": [
    "class Solution:\n",
    "    def romanToInt(self, s: str) -> int:\n",
    "        kys = ['I','II','III','IV','V','VI','VII','VIII','IX','X','XX','XXX','XL','L','LX','LXX','LXXX',\n",
    "                          'XC','C','CC','CCC','CD','D','DC','DCC','DCCC','CM','M','MM','MMM']\n",
    "        vals = [1,2,3,4,5,6,7,8,9,10,20,30,40,50,60,70,80,90,100,\n",
    "                              200,300,400,500,600,700,800,900,1000,2000,3000]\n",
    "        int_to_rom = dict(zip(kys,vals))\n",
    "        num = 0\n",
    "        \n",
    "        while(s != \"\"):\n",
    "            if s[:4] in kys:\n",
    "                num += int_to_rom[s[:4]]\n",
    "                s = s[4:]\n",
    "            elif s[:3] in kys:\n",
    "                num += int_to_rom[s[:3]]\n",
    "                s = s[3:]\n",
    "            elif s[:2] in kys:\n",
    "                num += int_to_rom[s[:2]]\n",
    "                s = s[2:]\n",
    "            else:\n",
    "                num += int_to_rom[s[:1]]\n",
    "                s = s[1:]\n",
    "        return(num)"
   ]
  },
  {
   "cell_type": "code",
   "execution_count": 2,
   "id": "b002fc9e-50a3-49f0-8fce-85791e436422",
   "metadata": {},
   "outputs": [
    {
     "data": {
      "text/plain": [
       "1994"
      ]
     },
     "execution_count": 2,
     "metadata": {},
     "output_type": "execute_result"
    }
   ],
   "source": [
    "Solution().romanToInt('MCMXCIV')"
   ]
  }
 ],
 "metadata": {
  "kernelspec": {
   "display_name": "Python 3",
   "language": "python",
   "name": "python3"
  },
  "language_info": {
   "codemirror_mode": {
    "name": "ipython",
    "version": 3
   },
   "file_extension": ".py",
   "mimetype": "text/x-python",
   "name": "python",
   "nbconvert_exporter": "python",
   "pygments_lexer": "ipython3",
   "version": "3.8.8"
  }
 },
 "nbformat": 4,
 "nbformat_minor": 5
}
