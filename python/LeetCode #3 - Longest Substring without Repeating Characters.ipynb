{
 "cells": [
  {
   "cell_type": "markdown",
   "id": "28e96d52-6ef8-4dc0-ab3a-ce854d5b7cba",
   "metadata": {},
   "source": [
    "### LeetCode #3 - Longest Substring without Repeating Characters \n",
    "https://leetcode.com/problems/longest-substring-without-repeating-characters/"
   ]
  },
  {
   "cell_type": "markdown",
   "id": "591efd83-9bbc-4c2c-9d01-db1267514181",
   "metadata": {},
   "source": [
    "**Example 1:**\n",
    "\n",
    "Input: s = \"abcabcbb\"\n",
    "\n",
    "Output: 3\n",
    "\n",
    "Explanation: The answer is \"abc\", with the length of 3.\n",
    "\n",
    "**Example 2:**\n",
    "\n",
    "Input: s = \"bbbbb\"\n",
    "\n",
    "Output: 1\n",
    "\n",
    "Explanation: The answer is \"b\", with the length of 1.\n",
    "\n",
    "**Example 3:**abcabcbb\n",
    "\n",
    "Input: s = \"pwwkew\"\n",
    "\n",
    "Output: 3\n",
    "\n",
    "Explanation: The answer is \"wke\", with the length of 3.\n",
    "\n",
    "Notice that the answer must be a substring, \"pwke\" is a subsequence and not a substring."
   ]
  },
  {
   "cell_type": "markdown",
   "id": "69c0af39-37f2-45ca-ba5c-d6731f8815ac",
   "metadata": {},
   "source": [
    "**Constraints:**\n",
    "\n",
    "$0 \\leq s.length \\leq 5 \\times 10^{4}$\n",
    "consists of English letters, digits, symbols and spaces."
   ]
  },
  {
   "cell_type": "code",
   "execution_count": 6,
   "id": "171225d0-752d-419b-a053-8986c53f4588",
   "metadata": {},
   "outputs": [],
   "source": [
    "class Solution:\n",
    "    def lengthOfLongestSubstring(self, s: str) -> int:\n",
    "        if s == '':\n",
    "            return 0\n",
    "        else:   \n",
    "            cnt = 0\n",
    "            char_set = set(s)\n",
    "            char_list = list(char_set)\n",
    "            char_dict = dict(zip(char_list, [0] * len(char_list)))\n",
    "            index_dict = dict(zip(char_list, [0] * len(char_list)))\n",
    "            for i in range(len(s)):\n",
    "                char_dict[s[i]] += 1\n",
    "                if(char_dict[s[i]] == 2): \n",
    "                    s = s[(index_dict[s[i]] + 1):]\n",
    "                    break\n",
    "                index_dict[s[i]] = i\n",
    "                cnt += 1\n",
    "            if(2 in char_dict.values()):\n",
    "                cnt = max(cnt, Solution().lengthOfLongestSubstring(s))\n",
    "            return(cnt)"
   ]
  },
  {
   "cell_type": "code",
   "execution_count": 12,
   "id": "70736dcb-a64e-4ec6-8838-b3174e688039",
   "metadata": {},
   "outputs": [
    {
     "data": {
      "text/plain": [
       "4"
      ]
     },
     "execution_count": 12,
     "metadata": {},
     "output_type": "execute_result"
    }
   ],
   "source": [
    "Solution().lengthOfLongestSubstring(s = 'abcabcbbdfg')"
   ]
  },
  {
   "cell_type": "code",
   "execution_count": 11,
   "id": "ff2d34cf-ae74-4d16-ab62-2f4b19077dc9",
   "metadata": {},
   "outputs": [],
   "source": [
    "class Solution:\n",
    "    def lengthOfLongestSubstring(self, s: str) -> int:\n",
    "        z = \"abcdefghijklmnopqrstuvwxyzABCDEFGHIJKLMNOPQRSTUVWXYZ0123456789!\\\"#$%&'()*+,-./:;<=>?@[\\\\]^_`{|}~\"\n",
    "        if s == '':\n",
    "            return 0\n",
    "        elif z in s:\n",
    "            return 95\n",
    "        else:   \n",
    "            cnt = 0\n",
    "            char_set = set(s)\n",
    "            char_list = list(char_set)\n",
    "            char_dict = dict(zip(char_list, [0] * len(char_list)))\n",
    "            index_dict = dict(zip(char_list, [0] * len(char_list)))\n",
    "            for i in range(len(s)):\n",
    "                char_dict[s[i]] += 1\n",
    "                if(char_dict[s[i]] == 2): \n",
    "                    s = s[(index_dict[s[i]] + 1):]\n",
    "                    break\n",
    "                index_dict[s[i]] = i\n",
    "                cnt += 1\n",
    "            if(2 in char_dict.values()):\n",
    "                cnt = max(cnt, Solution().lengthOfLongestSubstring(s))\n",
    "            return(cnt)"
   ]
  },
  {
   "cell_type": "markdown",
   "id": "b557328d-942a-4559-aef1-a0e07700757d",
   "metadata": {},
   "source": [
    "987 / 987 test cases passed, but took too much memory."
   ]
  }
 ],
 "metadata": {
  "kernelspec": {
   "display_name": "Python 3",
   "language": "python",
   "name": "python3"
  },
  "language_info": {
   "codemirror_mode": {
    "name": "ipython",
    "version": 3
   },
   "file_extension": ".py",
   "mimetype": "text/x-python",
   "name": "python",
   "nbconvert_exporter": "python",
   "pygments_lexer": "ipython3",
   "version": "3.8.8"
  }
 },
 "nbformat": 4,
 "nbformat_minor": 5
}
