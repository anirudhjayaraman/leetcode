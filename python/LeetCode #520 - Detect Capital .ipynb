{
 "cells": [
  {
   "cell_type": "markdown",
   "id": "4c3dffcc-e7fc-48d6-b3ab-07e77f9e23a1",
   "metadata": {},
   "source": [
    "### LeetCode #520 - Detect Capital \n",
    "https://leetcode.com/problems/detect-capital/"
   ]
  },
  {
   "cell_type": "code",
   "execution_count": 1,
   "id": "38802afa-90cd-4543-9636-f28db583e60d",
   "metadata": {},
   "outputs": [],
   "source": [
    "class Solution:\n",
    "    def detectCapitalUse(self, word: str) -> bool:\n",
    "        if(len(word) == 1):\n",
    "            return(True)\n",
    "        return((word.upper() == word) or (word.lower() == word) or ((word[0].upper() == word[0]) and (word[1:].lower() == word[1:])))"
   ]
  },
  {
   "cell_type": "code",
   "execution_count": 2,
   "id": "c52daf0d-89b1-4ef5-894f-2ca8a6a4d3f6",
   "metadata": {},
   "outputs": [
    {
     "name": "stdout",
     "output_type": "stream",
     "text": [
      "True\n",
      "False\n",
      "True\n",
      "False\n"
     ]
    }
   ],
   "source": [
    "print(Solution().detectCapitalUse('Hello'))  # True\n",
    "print(Solution().detectCapitalUse('HEllo'))  # False\n",
    "print(Solution().detectCapitalUse('HELLO'))  # True\n",
    "print(Solution().detectCapitalUse('HellO'))  # False"
   ]
  }
 ],
 "metadata": {
  "kernelspec": {
   "display_name": "Python 3",
   "language": "python",
   "name": "python3"
  },
  "language_info": {
   "codemirror_mode": {
    "name": "ipython",
    "version": 3
   },
   "file_extension": ".py",
   "mimetype": "text/x-python",
   "name": "python",
   "nbconvert_exporter": "python",
   "pygments_lexer": "ipython3",
   "version": "3.8.8"
  }
 },
 "nbformat": 4,
 "nbformat_minor": 5
}
