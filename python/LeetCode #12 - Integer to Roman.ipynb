{
 "cells": [
  {
   "cell_type": "markdown",
   "id": "e6ce7a5f-dbec-4803-a245-8a982c6ecdc6",
   "metadata": {},
   "source": [
    "### LeetCode #12 - Integer to Roman \n",
    "https://leetcode.com/problems/integer-to-roman/"
   ]
  },
  {
   "cell_type": "markdown",
   "id": "e89144bf-56ee-4c65-8fc2-b92d31f446d4",
   "metadata": {},
   "source": [
    "Roman numerals are represented by seven different symbols: I, V, X, L, C, D and M.\n",
    "\n",
    "| Symbol | Value  |\n",
    "| :------: | -----:  |\n",
    "|I |             1|\n",
    "|V |             5|\n",
    "|X |            10|\n",
    "|L |            50|\n",
    "|C |           100|\n",
    "|D |           500|\n",
    "|M |          1000|\n",
    "\n",
    "For example, 2 is written as II in Roman numeral, just two one's added together. 12 is written as XII, which is simply X + II. The number 27 is written as XXVII, which is XX + V + II.\n",
    "\n",
    "Roman numerals are usually written largest to smallest from left to right. However, the numeral for four is not IIII. Instead, the number four is written as IV. \n",
    "\n",
    "Because the one is before the five we subtract it making four. The same principle applies to the number nine, which is written as IX. There are six instances where subtraction is used:\n",
    "\n",
    "- I can be placed before V (5) and X (10) to make 4 and 9. \n",
    "- X can be placed before L (50) and C (100) to make 40 and 90. \n",
    "- C can be placed before D (500) and M (1000) to make 400 and 900.\n",
    "\n",
    "Given an integer, convert it to a roman numeral."
   ]
  },
  {
   "cell_type": "markdown",
   "id": "b6ea3334-3870-47b6-859a-1ce1e3ffcc38",
   "metadata": {},
   "source": [
    "Example 1:\n",
    "\n",
    "Input: s = \"III\"\n",
    "\n",
    "Output: 3\n",
    "\n",
    "Explanation: III = 3.\n",
    "\n",
    "Example 2:\n",
    "\n",
    "Input: s = \"LVIII\"\n",
    "Output: 58\n",
    "Explanation: L = 50, V= 5, III = 3.\n",
    "Example 3:\n",
    "\n",
    "Input: s = \"MCMXCIV\"\n",
    "Output: 1994\n",
    "Explanation: M = 1000, CM = 900, XC = 90 and IV = 4.\n",
    " \n",
    "\n",
    "Constraints:\n",
    "\n",
    "$1 \\leq s.length \\leq 15$\n",
    "s contains only the characters ('I', 'V', 'X', 'L', 'C', 'D', 'M').\n",
    "It is guaranteed that s is a valid roman numeral in the range [1, 3999]."
   ]
  },
  {
   "cell_type": "code",
   "execution_count": 1,
   "id": "913d7738-9ff5-4744-b633-d6fed0929bee",
   "metadata": {},
   "outputs": [],
   "source": [
    "class Solution:\n",
    "    def intToRoman(self, num: int) -> str:\n",
    "        int_to_rom = dict(zip([1,2,3,4,5,6,7,8,9,10,20,30,40,50,60,70,80,90,100,200,300,400,500,600,700,800,900,1000,2000,3000],\n",
    "                         ['I','II','III','IV','V','VI','VII','VIII','IX','X','XX','XXX','XL','L','LX','LXX','LXXX',\n",
    "                          'XC','C','CC','CCC','CD','D','DC','DCC','DCCC','CM','M','MM','MMM']))\n",
    "        if num in int_to_rom.keys():\n",
    "            return(int_to_rom[num])\n",
    "        if num > 3000:\n",
    "            return(int_to_rom[3000] + self.intToRoman(num - 3000))\n",
    "        elif num > 2000:\n",
    "            return(int_to_rom[2000] + self.intToRoman(num - 2000))\n",
    "        elif num > 1000:\n",
    "            return(int_to_rom[1000] + self.intToRoman(num - 1000))\n",
    "        elif num > 900:\n",
    "            return(int_to_rom[900] + self.intToRoman(num - 900))\n",
    "        elif num > 800:\n",
    "            return(int_to_rom[800] + self.intToRoman(num - 800))\n",
    "        elif num > 700:\n",
    "            return(int_to_rom[700] + self.intToRoman(num - 700))\n",
    "        elif num > 600:\n",
    "            return(int_to_rom[600] + self.intToRoman(num - 600))\n",
    "        elif num > 500:\n",
    "            return(int_to_rom[500] + self.intToRoman(num - 500))\n",
    "        elif num > 400:\n",
    "            return(int_to_rom[400] + self.intToRoman(num - 400))\n",
    "        elif num > 300:\n",
    "            return(int_to_rom[300] + self.intToRoman(num - 300))\n",
    "        elif num > 200:\n",
    "            return(int_to_rom[200] + self.intToRoman(num - 200))\n",
    "        elif num > 100:\n",
    "            return(int_to_rom[100] + self.intToRoman(num - 100))\n",
    "        elif num > 90:\n",
    "            return(int_to_rom[90] + self.intToRoman(num - 90))\n",
    "        elif num > 80:\n",
    "            return(int_to_rom[80] + self.intToRoman(num - 80))\n",
    "        elif num > 70:\n",
    "            return(int_to_rom[70] + self.intToRoman(num - 70))\n",
    "        elif num > 60:\n",
    "            return(int_to_rom[60] + self.intToRoman(num - 60))\n",
    "        elif num > 50:\n",
    "            return(int_to_rom[50] + self.intToRoman(num - 50))\n",
    "        elif num > 40:\n",
    "            return(int_to_rom[40] + self.intToRoman(num - 40))\n",
    "        elif num > 30:\n",
    "            return(int_to_rom[30] + self.intToRoman(num - 30))\n",
    "        elif num > 20:\n",
    "            return(int_to_rom[20] + self.intToRoman(num - 20))\n",
    "        elif num > 10:\n",
    "            return(int_to_rom[10] + self.intToRoman(num - 10))\n",
    "        else:\n",
    "            return(int_to_rom[num])"
   ]
  },
  {
   "cell_type": "code",
   "execution_count": 2,
   "id": "a3b5350a-73ec-48df-bcc8-bb65a9e6bccb",
   "metadata": {},
   "outputs": [
    {
     "data": {
      "text/plain": [
       "'XI'"
      ]
     },
     "execution_count": 2,
     "metadata": {},
     "output_type": "execute_result"
    }
   ],
   "source": [
    "Solution().intToRoman(11)"
   ]
  },
  {
   "cell_type": "code",
   "execution_count": 3,
   "id": "203ab046-20d5-4c52-ab64-ea68d174baea",
   "metadata": {},
   "outputs": [],
   "source": [
    "class Solution:\n",
    "    def intToRoman(self, num: int) -> str:\n",
    "        \n",
    "        dic = {\n",
    "            1:'I',\n",
    "            4:'IV',\n",
    "            5:'V',\n",
    "            9:'IX',\n",
    "            10:'X',\n",
    "            40:'XL',\n",
    "            50:'L',\n",
    "            90:'XC',\n",
    "            100:'C',\n",
    "            400:'CD',\n",
    "            500:'D',\n",
    "            900:'CM',\n",
    "            1000:'M'}\n",
    "        \n",
    "        \n",
    "        numbers = list(dic.keys())[::-1]\n",
    "        \n",
    "        ans = []\n",
    "        for nd in numbers:\n",
    "            div1, mod1 = divmod(num, nd)\n",
    "            if div1 > 0:\n",
    "                ans.append(div1*dic[nd])\n",
    "            num = mod1\n",
    "        \n",
    "        return ''.join(ans)\n",
    "        "
   ]
  },
  {
   "cell_type": "code",
   "execution_count": 4,
   "id": "20fde41a-76f2-42fa-9adb-24f3f11e854c",
   "metadata": {},
   "outputs": [
    {
     "data": {
      "text/plain": [
       "'XI'"
      ]
     },
     "execution_count": 4,
     "metadata": {},
     "output_type": "execute_result"
    }
   ],
   "source": [
    "Solution().intToRoman(11)"
   ]
  }
 ],
 "metadata": {
  "kernelspec": {
   "display_name": "Python 3",
   "language": "python",
   "name": "python3"
  },
  "language_info": {
   "codemirror_mode": {
    "name": "ipython",
    "version": 3
   },
   "file_extension": ".py",
   "mimetype": "text/x-python",
   "name": "python",
   "nbconvert_exporter": "python",
   "pygments_lexer": "ipython3",
   "version": "3.8.8"
  }
 },
 "nbformat": 4,
 "nbformat_minor": 5
}
